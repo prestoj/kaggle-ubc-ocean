{
 "cells": [
  {
   "cell_type": "code",
   "execution_count": 2,
   "id": "178ddb4b-b44a-4f50-8e4a-5ee44d70d51d",
   "metadata": {},
   "outputs": [
    {
     "name": "stdout",
     "output_type": "stream",
     "text": [
      "Thu Nov  9 20:41:18 2023       \n",
      "+-----------------------------------------------------------------------------+\n",
      "| NVIDIA-SMI 525.105.17   Driver Version: 525.105.17   CUDA Version: 12.0     |\n",
      "|-------------------------------+----------------------+----------------------+\n",
      "| GPU  Name        Persistence-M| Bus-Id        Disp.A | Volatile Uncorr. ECC |\n",
      "| Fan  Temp  Perf  Pwr:Usage/Cap|         Memory-Usage | GPU-Util  Compute M. |\n",
      "|                               |                      |               MIG M. |\n",
      "|===============================+======================+======================|\n",
      "|   0  Tesla P4            On   | 00000000:00:04.0 Off |                    0 |\n",
      "| N/A   62C    P0    67W /  75W |   7596MiB /  7680MiB |    100%      Default |\n",
      "|                               |                      |                  N/A |\n",
      "+-------------------------------+----------------------+----------------------+\n",
      "                                                                               \n",
      "+-----------------------------------------------------------------------------+\n",
      "| Processes:                                                                  |\n",
      "|  GPU   GI   CI        PID   Type   Process name                  GPU Memory |\n",
      "|        ID   ID                                                   Usage      |\n",
      "|=============================================================================|\n",
      "|    0   N/A  N/A     16243      C   /opt/conda/bin/python            7594MiB |\n",
      "+-----------------------------------------------------------------------------+\n"
     ]
    }
   ],
   "source": [
    "!nvidia-smi"
   ]
  },
  {
   "cell_type": "code",
   "execution_count": 5,
   "id": "9c910ecb-05e1-4fb6-87b2-fa3792d53a4c",
   "metadata": {},
   "outputs": [
    {
     "ename": "ValueError",
     "evalue": "v cannot be empty",
     "output_type": "error",
     "traceback": [
      "\u001b[0;31m---------------------------------------------------------------------------\u001b[0m",
      "\u001b[0;31mValueError\u001b[0m                                Traceback (most recent call last)",
      "Cell \u001b[0;32mIn[5], line 42\u001b[0m\n\u001b[1;32m     40\u001b[0m \u001b[38;5;66;03m# Calculate the moving average of the loss with a window size of 5\u001b[39;00m\n\u001b[1;32m     41\u001b[0m window_size \u001b[38;5;241m=\u001b[39m \u001b[38;5;241m1000\u001b[39m\n\u001b[0;32m---> 42\u001b[0m moving_averages \u001b[38;5;241m=\u001b[39m \u001b[43mnp\u001b[49m\u001b[38;5;241;43m.\u001b[39;49m\u001b[43mconvolve\u001b[49m\u001b[43m(\u001b[49m\u001b[43mloss_values\u001b[49m\u001b[43m,\u001b[49m\u001b[43m \u001b[49m\u001b[43mnp\u001b[49m\u001b[38;5;241;43m.\u001b[39;49m\u001b[43mones\u001b[49m\u001b[43m(\u001b[49m\u001b[43mwindow_size\u001b[49m\u001b[43m)\u001b[49m\u001b[38;5;241;43m/\u001b[39;49m\u001b[43mwindow_size\u001b[49m\u001b[43m,\u001b[49m\u001b[43m \u001b[49m\u001b[43mmode\u001b[49m\u001b[38;5;241;43m=\u001b[39;49m\u001b[38;5;124;43m'\u001b[39;49m\u001b[38;5;124;43mvalid\u001b[39;49m\u001b[38;5;124;43m'\u001b[39;49m\u001b[43m)\u001b[49m\n\u001b[1;32m     44\u001b[0m \u001b[38;5;66;03m# Convert the lists to Pandas Series for easier plotting\u001b[39;00m\n\u001b[1;32m     45\u001b[0m loss_series \u001b[38;5;241m=\u001b[39m pd\u001b[38;5;241m.\u001b[39mSeries(loss_values, index\u001b[38;5;241m=\u001b[39mloss_steps, name\u001b[38;5;241m=\u001b[39m\u001b[38;5;124m\"\u001b[39m\u001b[38;5;124mLoss\u001b[39m\u001b[38;5;124m\"\u001b[39m)\n",
      "File \u001b[0;32m<__array_function__ internals>:180\u001b[0m, in \u001b[0;36mconvolve\u001b[0;34m(*args, **kwargs)\u001b[0m\n",
      "File \u001b[0;32m/opt/conda/lib/python3.10/site-packages/numpy/core/numeric.py:849\u001b[0m, in \u001b[0;36mconvolve\u001b[0;34m(a, v, mode)\u001b[0m\n\u001b[1;32m    847\u001b[0m     \u001b[38;5;28;01mraise\u001b[39;00m \u001b[38;5;167;01mValueError\u001b[39;00m(\u001b[38;5;124m'\u001b[39m\u001b[38;5;124ma cannot be empty\u001b[39m\u001b[38;5;124m'\u001b[39m)\n\u001b[1;32m    848\u001b[0m \u001b[38;5;28;01mif\u001b[39;00m \u001b[38;5;28mlen\u001b[39m(v) \u001b[38;5;241m==\u001b[39m \u001b[38;5;241m0\u001b[39m:\n\u001b[0;32m--> 849\u001b[0m     \u001b[38;5;28;01mraise\u001b[39;00m \u001b[38;5;167;01mValueError\u001b[39;00m(\u001b[38;5;124m'\u001b[39m\u001b[38;5;124mv cannot be empty\u001b[39m\u001b[38;5;124m'\u001b[39m)\n\u001b[1;32m    850\u001b[0m \u001b[38;5;28;01mreturn\u001b[39;00m multiarray\u001b[38;5;241m.\u001b[39mcorrelate(a, v[::\u001b[38;5;241m-\u001b[39m\u001b[38;5;241m1\u001b[39m], mode)\n",
      "\u001b[0;31mValueError\u001b[0m: v cannot be empty"
     ]
    }
   ],
   "source": [
    "import re\n",
    "import numpy as np\n",
    "import pandas as pd\n",
    "import matplotlib.pyplot as plt\n",
    "\n",
    "# The path to your file (change this to the name of your file)\n",
    "file_path = 'training_log_finetune_vit_non_tma_big_and_small.txt'\n",
    "\n",
    "# Read the file\n",
    "with open(file_path, 'r') as file:\n",
    "    lines = file.readlines()\n",
    "\n",
    "# Initialize lists to hold the extracted data\n",
    "loss_steps = []\n",
    "loss_values = []\n",
    "val_steps = []\n",
    "val_accuracies = []\n",
    "\n",
    "# Regular expressions to match lines with loss and validation accuracy\n",
    "loss_regex = re.compile(r\"step: (\\d+), loss: ([\\d.]+)\")\n",
    "val_accuracy_regex = re.compile(r\"step: (\\d+), validation accuracy: ([\\d.]+)%\")\n",
    "\n",
    "# Process the file line by line\n",
    "for line in lines:\n",
    "    loss_match = loss_regex.search(line)\n",
    "    val_accuracy_match = val_accuracy_regex.search(line)\n",
    "    \n",
    "    # If the line contains loss information, add it to the list\n",
    "    if loss_match:\n",
    "        step, loss = loss_match.groups()\n",
    "        loss_steps.append(int(step))\n",
    "        loss_values.append(float(loss))\n",
    "    \n",
    "    # If the line contains validation accuracy, add it to the list\n",
    "    if val_accuracy_match:\n",
    "        step, accuracy = val_accuracy_match.groups()\n",
    "        val_steps.append(int(step))\n",
    "        val_accuracies.append(float(accuracy))\n",
    "\n",
    "# Calculate the moving average of the loss with a window size of 5\n",
    "window_size = 1000\n",
    "moving_averages = np.convolve(loss_values, np.ones(window_size)/window_size, mode='valid')\n",
    "\n",
    "# Convert the lists to Pandas Series for easier plotting\n",
    "loss_series = pd.Series(loss_values, index=loss_steps, name=\"Loss\")\n",
    "moving_average_series = pd.Series(moving_averages, index=loss_steps[window_size - 1:], name=\"Moving Average Loss\")\n",
    "val_accuracy_series = pd.Series(val_accuracies, index=val_steps, name=\"Validation Accuracy\")\n",
    "\n",
    "# Set the style for the plot\n",
    "plt.style.use('ggplot')\n",
    "\n",
    "# Create a figure and a set of subplots\n",
    "fig, ax1 = plt.subplots(figsize=(14, 7))\n",
    "\n",
    "# Plot loss and moving average on the primary y-axis\n",
    "loss_line, = ax1.plot(loss_series, label='Loss', color='blue', alpha=0.2)\n",
    "moving_average_line, = ax1.plot(moving_average_series, label='Moving Average Loss', color='blue', linewidth=2)\n",
    "ax1.set_xlabel('Step')\n",
    "ax1.set_ylabel('Loss')\n",
    "ax1.tick_params(axis='y')\n",
    "\n",
    "# Create a secondary y-axis for validation accuracy\n",
    "ax2 = ax1.twinx()\n",
    "val_accuracy_line, = ax2.plot(val_accuracy_series, label='Validation Accuracy', color='green', marker='o', linestyle='--')\n",
    "ax2.set_ylabel('Validation Accuracy (%)')\n",
    "ax2.tick_params(axis='y')\n",
    "\n",
    "# Set up the legend\n",
    "lines = [loss_line, moving_average_line, val_accuracy_line]\n",
    "ax1.legend(lines, [l.get_label() for l in lines])\n",
    "\n",
    "# Show the plot\n",
    "plt.title('Training Loss and Validation Accuracy Over Time')\n",
    "plt.show()\n"
   ]
  }
 ],
 "metadata": {
  "environment": {
   "kernel": "python3",
   "name": "pytorch-gpu.2-0.m112",
   "type": "gcloud",
   "uri": "gcr.io/deeplearning-platform-release/pytorch-gpu.2-0:m112"
  },
  "kernelspec": {
   "display_name": "Python 3",
   "language": "python",
   "name": "python3"
  },
  "language_info": {
   "codemirror_mode": {
    "name": "ipython",
    "version": 3
   },
   "file_extension": ".py",
   "mimetype": "text/x-python",
   "name": "python",
   "nbconvert_exporter": "python",
   "pygments_lexer": "ipython3",
   "version": "3.10.12"
  }
 },
 "nbformat": 4,
 "nbformat_minor": 5
}
